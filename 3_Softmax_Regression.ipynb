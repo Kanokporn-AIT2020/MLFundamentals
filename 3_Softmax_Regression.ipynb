{
  "nbformat": 4,
  "nbformat_minor": 0,
  "metadata": {
    "colab": {
      "name": "Softmax Regression.ipynb",
      "provenance": [],
      "collapsed_sections": []
    },
    "kernelspec": {
      "name": "python3",
      "display_name": "Python 3"
    }
  },
  "cells": [
    {
      "cell_type": "code",
      "metadata": {
        "id": "GAiy6oVNELSZ",
        "colab_type": "code",
        "outputId": "ae416349-4e43-4f1b-b189-f3fca64836eb",
        "colab": {
          "base_uri": "https://localhost:8080/",
          "height": 34
        }
      },
      "source": [
        "%pylab inline"
      ],
      "execution_count": 1,
      "outputs": [
        {
          "output_type": "stream",
          "text": [
            "Populating the interactive namespace from numpy and matplotlib\n"
          ],
          "name": "stdout"
        }
      ]
    },
    {
      "cell_type": "code",
      "metadata": {
        "id": "mqwfllGX4Jgp",
        "colab_type": "code",
        "colab": {}
      },
      "source": [
        "import pandas as pd"
      ],
      "execution_count": 0,
      "outputs": []
    },
    {
      "cell_type": "code",
      "metadata": {
        "id": "bSgCsD_oENna",
        "colab_type": "code",
        "outputId": "51a29918-cd84-4aec-adba-4d5add08cd0e",
        "colab": {
          "base_uri": "https://localhost:8080/",
          "height": 204
        }
      },
      "source": [
        "!wget -O dataset.csv https://archive.ics.uci.edu/ml/machine-learning-databases/iris/iris.data"
      ],
      "execution_count": 3,
      "outputs": [
        {
          "output_type": "stream",
          "text": [
            "--2020-02-22 21:50:28--  https://archive.ics.uci.edu/ml/machine-learning-databases/iris/iris.data\n",
            "Resolving archive.ics.uci.edu (archive.ics.uci.edu)... 128.195.10.252\n",
            "Connecting to archive.ics.uci.edu (archive.ics.uci.edu)|128.195.10.252|:443... connected.\n",
            "HTTP request sent, awaiting response... 200 OK\n",
            "Length: 4551 (4.4K) [application/x-httpd-php]\n",
            "Saving to: ‘dataset.csv’\n",
            "\n",
            "\rdataset.csv           0%[                    ]       0  --.-KB/s               \rdataset.csv         100%[===================>]   4.44K  --.-KB/s    in 0s      \n",
            "\n",
            "2020-02-22 21:50:29 (111 MB/s) - ‘dataset.csv’ saved [4551/4551]\n",
            "\n"
          ],
          "name": "stdout"
        }
      ]
    },
    {
      "cell_type": "code",
      "metadata": {
        "id": "mu0GXYGFpj0T",
        "colab_type": "code",
        "outputId": "a975ec4e-3b96-4b7c-eab1-1df586d4ad8b",
        "colab": {
          "base_uri": "https://localhost:8080/",
          "height": 68
        }
      },
      "source": [
        "!head -3 dataset.csv"
      ],
      "execution_count": 4,
      "outputs": [
        {
          "output_type": "stream",
          "text": [
            "5.1,3.5,1.4,0.2,Iris-setosa\n",
            "4.9,3.0,1.4,0.2,Iris-setosa\n",
            "4.7,3.2,1.3,0.2,Iris-setosa\n"
          ],
          "name": "stdout"
        }
      ]
    },
    {
      "cell_type": "code",
      "metadata": {
        "id": "JqQG1st2p7Ti",
        "colab_type": "code",
        "colab": {}
      },
      "source": [
        "df = pd.read_csv('dataset.csv', names=[\n",
        "  \"sepal length in cm\",\n",
        "  \"sepal width in cm\",\n",
        "  \"petal length in cm\",\n",
        "  \"petal width in cm\",\n",
        "  \"class\"\n",
        "])"
      ],
      "execution_count": 0,
      "outputs": []
    },
    {
      "cell_type": "code",
      "metadata": {
        "id": "-rmeM3iCrA15",
        "colab_type": "code",
        "outputId": "194dcd3b-4e7f-4102-80e0-f4ccc79dbb22",
        "colab": {
          "base_uri": "https://localhost:8080/",
          "height": 204
        }
      },
      "source": [
        "df.head()"
      ],
      "execution_count": 6,
      "outputs": [
        {
          "output_type": "execute_result",
          "data": {
            "text/html": [
              "<div>\n",
              "<style scoped>\n",
              "    .dataframe tbody tr th:only-of-type {\n",
              "        vertical-align: middle;\n",
              "    }\n",
              "\n",
              "    .dataframe tbody tr th {\n",
              "        vertical-align: top;\n",
              "    }\n",
              "\n",
              "    .dataframe thead th {\n",
              "        text-align: right;\n",
              "    }\n",
              "</style>\n",
              "<table border=\"1\" class=\"dataframe\">\n",
              "  <thead>\n",
              "    <tr style=\"text-align: right;\">\n",
              "      <th></th>\n",
              "      <th>sepal length in cm</th>\n",
              "      <th>sepal width in cm</th>\n",
              "      <th>petal length in cm</th>\n",
              "      <th>petal width in cm</th>\n",
              "      <th>class</th>\n",
              "    </tr>\n",
              "  </thead>\n",
              "  <tbody>\n",
              "    <tr>\n",
              "      <th>0</th>\n",
              "      <td>5.1</td>\n",
              "      <td>3.5</td>\n",
              "      <td>1.4</td>\n",
              "      <td>0.2</td>\n",
              "      <td>Iris-setosa</td>\n",
              "    </tr>\n",
              "    <tr>\n",
              "      <th>1</th>\n",
              "      <td>4.9</td>\n",
              "      <td>3.0</td>\n",
              "      <td>1.4</td>\n",
              "      <td>0.2</td>\n",
              "      <td>Iris-setosa</td>\n",
              "    </tr>\n",
              "    <tr>\n",
              "      <th>2</th>\n",
              "      <td>4.7</td>\n",
              "      <td>3.2</td>\n",
              "      <td>1.3</td>\n",
              "      <td>0.2</td>\n",
              "      <td>Iris-setosa</td>\n",
              "    </tr>\n",
              "    <tr>\n",
              "      <th>3</th>\n",
              "      <td>4.6</td>\n",
              "      <td>3.1</td>\n",
              "      <td>1.5</td>\n",
              "      <td>0.2</td>\n",
              "      <td>Iris-setosa</td>\n",
              "    </tr>\n",
              "    <tr>\n",
              "      <th>4</th>\n",
              "      <td>5.0</td>\n",
              "      <td>3.6</td>\n",
              "      <td>1.4</td>\n",
              "      <td>0.2</td>\n",
              "      <td>Iris-setosa</td>\n",
              "    </tr>\n",
              "  </tbody>\n",
              "</table>\n",
              "</div>"
            ],
            "text/plain": [
              "   sepal length in cm  sepal width in cm  ...  petal width in cm        class\n",
              "0                 5.1                3.5  ...                0.2  Iris-setosa\n",
              "1                 4.9                3.0  ...                0.2  Iris-setosa\n",
              "2                 4.7                3.2  ...                0.2  Iris-setosa\n",
              "3                 4.6                3.1  ...                0.2  Iris-setosa\n",
              "4                 5.0                3.6  ...                0.2  Iris-setosa\n",
              "\n",
              "[5 rows x 5 columns]"
            ]
          },
          "metadata": {
            "tags": []
          },
          "execution_count": 6
        }
      ]
    },
    {
      "cell_type": "code",
      "metadata": {
        "id": "qJsu3I1Vty1D",
        "colab_type": "code",
        "outputId": "1fd3d425-839a-4af2-9fc6-b89f4325895f",
        "colab": {
          "base_uri": "https://localhost:8080/",
          "height": 34
        }
      },
      "source": [
        "X = df[[\"sepal length in cm\",\n",
        "  \"sepal width in cm\",\n",
        "  \"petal length in cm\",\n",
        "  \"petal width in cm\"\n",
        "]].values.astype(np.float32)\n",
        "X.shape"
      ],
      "execution_count": 7,
      "outputs": [
        {
          "output_type": "execute_result",
          "data": {
            "text/plain": [
              "(150, 4)"
            ]
          },
          "metadata": {
            "tags": []
          },
          "execution_count": 7
        }
      ]
    },
    {
      "cell_type": "code",
      "metadata": {
        "id": "pRlEcPzxtnN5",
        "colab_type": "code",
        "outputId": "bc296f2d-1676-43d3-c6aa-b08c7c4edae9",
        "colab": {
          "base_uri": "https://localhost:8080/",
          "height": 34
        }
      },
      "source": [
        "y = pd.factorize(df['class'])[0]\n",
        "y.shape"
      ],
      "execution_count": 8,
      "outputs": [
        {
          "output_type": "execute_result",
          "data": {
            "text/plain": [
              "(150,)"
            ]
          },
          "metadata": {
            "tags": []
          },
          "execution_count": 8
        }
      ]
    },
    {
      "cell_type": "code",
      "metadata": {
        "id": "znfaOanoyQX_",
        "colab_type": "code",
        "colab": {}
      },
      "source": [
        "X = np.hstack((np.ones((len(X), 1)), X))"
      ],
      "execution_count": 0,
      "outputs": []
    },
    {
      "cell_type": "code",
      "metadata": {
        "id": "fgLDj1yQyc8u",
        "colab_type": "code",
        "outputId": "4e1a2f92-9772-4425-ba3c-0eb6e68b06ea",
        "colab": {
          "base_uri": "https://localhost:8080/",
          "height": 34
        }
      },
      "source": [
        "m, n = X.shape\n",
        "K = 3\n",
        "K, m, n"
      ],
      "execution_count": 10,
      "outputs": [
        {
          "output_type": "execute_result",
          "data": {
            "text/plain": [
              "(3, 150, 5)"
            ]
          },
          "metadata": {
            "tags": []
          },
          "execution_count": 10
        }
      ]
    },
    {
      "cell_type": "code",
      "metadata": {
        "id": "EmShaDqkAOQ-",
        "colab_type": "code",
        "colab": {}
      },
      "source": [
        "X[:, 1:] = (X[:, 1:] - np.mean(X[:, 1:], axis=0)) / np.std(X[:, 1:], axis=0)"
      ],
      "execution_count": 0,
      "outputs": []
    },
    {
      "cell_type": "code",
      "metadata": {
        "colab_type": "code",
        "id": "wrrExZ764dDI",
        "colab": {}
      },
      "source": [
        "np.random.seed(0)\n",
        "theta = np.random.random((n, K))"
      ],
      "execution_count": 0,
      "outputs": []
    },
    {
      "cell_type": "code",
      "metadata": {
        "id": "Fo1I0TLupnAw",
        "colab_type": "code",
        "colab": {}
      },
      "source": [
        "def softmax(z):\n",
        "    z -= np.max(z)\n",
        "    return np.exp(z) / np.sum(np.exp(z))"
      ],
      "execution_count": 0,
      "outputs": []
    },
    {
      "cell_type": "code",
      "metadata": {
        "id": "QYp6wZ2TmSjE",
        "colab_type": "code",
        "colab": {}
      },
      "source": [
        "def h(X, theta):\n",
        "  return softmax(X @ theta)"
      ],
      "execution_count": 0,
      "outputs": []
    },
    {
      "cell_type": "code",
      "metadata": {
        "id": "lWllbrs6maBI",
        "colab_type": "code",
        "colab": {}
      },
      "source": [
        "def J(preds, y):\n",
        "  return np.sum(- np.log(preds[np.arange(m), y]))"
      ],
      "execution_count": 0,
      "outputs": []
    },
    {
      "cell_type": "code",
      "metadata": {
        "id": "PzsvjC3014GL",
        "colab_type": "code",
        "colab": {}
      },
      "source": [
        "def T(y, K):\n",
        "  \"\"\" one hot encoding \"\"\"\n",
        "  one_hot = np.zeros((len(y), K))\n",
        "  one_hot[np.arange(len(y)), y] = 1\n",
        "  return one_hot"
      ],
      "execution_count": 0,
      "outputs": []
    },
    {
      "cell_type": "code",
      "metadata": {
        "id": "y9ApxWz4nUTy",
        "colab_type": "code",
        "colab": {}
      },
      "source": [
        "def compute_gradient(theta, X, y):\n",
        "  preds = h(X, theta)\n",
        "  gradient = 1/m * X.T @ (preds - T(y, K))\n",
        "  return gradient"
      ],
      "execution_count": 0,
      "outputs": []
    },
    {
      "cell_type": "code",
      "metadata": {
        "id": "wOcjo9MA_flk",
        "colab_type": "code",
        "outputId": "97563789-42cb-4ec7-b970-707019dead8e",
        "colab": {
          "base_uri": "https://localhost:8080/",
          "height": 153
        }
      },
      "source": [
        "hist = {'loss': [], 'acc': []}\n",
        "alpha = 1e-3\n",
        "\n",
        "for i in range(1500):\n",
        "  gradient = compute_gradient(theta, X, y)\n",
        "  theta -= alpha * gradient\n",
        "\n",
        "  # loss\n",
        "  preds = h(X, theta)\n",
        "  loss = J(preds, y)\n",
        "  hist['loss'].append(loss)\n",
        "\n",
        "  # acc\n",
        "  c = 0\n",
        "  for j in range(len(y)):\n",
        "    if np.argmax(h(X[j], theta)) == y[j]:\n",
        "      c += 1\n",
        "  acc = c / len(y)\n",
        "  hist['acc'].append(acc)\n",
        "\n",
        "  # print stats\n",
        "  if i % 200 == 0: print('{:.2f} {:.2f}%'.format(loss, acc * 100))"
      ],
      "execution_count": 18,
      "outputs": [
        {
          "output_type": "stream",
          "text": [
            "1146.39 20.67%\n",
            "1120.49 34.67%\n",
            "1099.11 49.33%\n",
            "1082.09 58.67%\n",
            "1069.24 60.67%\n",
            "1060.35 63.33%\n",
            "1055.16 65.33%\n",
            "1053.38 68.67%\n"
          ],
          "name": "stdout"
        }
      ]
    },
    {
      "cell_type": "code",
      "metadata": {
        "id": "tagqBRvVnVCE",
        "colab_type": "code",
        "outputId": "8e0e8674-e327-4c72-e62c-ee39c05ef7f2",
        "colab": {
          "base_uri": "https://localhost:8080/",
          "height": 623
        }
      },
      "source": [
        "figsize(10, 10)\n",
        "subplot(2, 1, 1)\n",
        "plot(hist['loss'])\n",
        "xlabel('loss')\n",
        "subplot(2, 1, 2)\n",
        "plot(hist['acc'])\n",
        "xlabel('accuracy')"
      ],
      "execution_count": 19,
      "outputs": [
        {
          "output_type": "execute_result",
          "data": {
            "text/plain": [
              "Text(0.5, 0, 'accuracy')"
            ]
          },
          "metadata": {
            "tags": []
          },
          "execution_count": 19
        },
        {
          "output_type": "display_data",
          "data": {
            "image/png": "[encoded data removed]",
            "text/plain": [
              "<Figure size 720x720 with 2 Axes>"
            ]
          },
          "metadata": {
            "tags": []
          }
        }
      ]
    },
    {
      "cell_type": "markdown",
      "metadata": {
        "id": "aTChgVmgm5SM",
        "colab_type": "text"
      },
      "source": [
        "## Graphics"
      ]
    },
    {
      "cell_type": "markdown",
      "metadata": {
        "id": "WDjTA2DVsNC1",
        "colab_type": "text"
      },
      "source": [
        "The rest of the notebook is not directly related to the concept. This section just shows how I generate graphics for the blog post."
      ]
    },
    {
      "cell_type": "code",
      "metadata": {
        "id": "8ehWninCnmKV",
        "colab_type": "code",
        "colab": {
          "base_uri": "https://localhost:8080/",
          "height": 643
        },
        "outputId": "952e6f2a-a060-4473-998a-36b4d7f8707e"
      },
      "source": [
        "# error for $log 0$\n",
        "x = np.linspace(0, 1, 100)\n",
        "print(x.shape)\n",
        "y = -np.log(x)\n",
        "plot(x, y)\n",
        "ylabel('-log x')\n",
        "show()"
      ],
      "execution_count": 20,
      "outputs": [
        {
          "output_type": "stream",
          "text": [
            "(100,)\n"
          ],
          "name": "stdout"
        },
        {
          "output_type": "stream",
          "text": [
            "/usr/local/lib/python3.6/dist-packages/ipykernel_launcher.py:3: RuntimeWarning: divide by zero encountered in log\n",
            "  This is separate from the ipykernel package so we can avoid doing imports until\n"
          ],
          "name": "stderr"
        },
        {
          "output_type": "display_data",
          "data": {
            "image/png": "[encoded data removed]",
            "text/plain": [
              "<Figure size 720x720 with 1 Axes>"
            ]
          },
          "metadata": {
            "tags": []
          }
        }
      ]
    },
    {
      "cell_type": "markdown",
      "metadata": {
        "id": "NrRWRco8tm6T",
        "colab_type": "text"
      },
      "source": [
        "---\n",
        "\n",
        "By [Rick Wierenga](https://twitter.com/rickwierenga/)"
      ]
    }
  ]
}