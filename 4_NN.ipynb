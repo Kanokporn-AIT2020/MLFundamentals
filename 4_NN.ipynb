{
  "nbformat": 4,
  "nbformat_minor": 0,
  "metadata": {
    "colab": {
      "name": "NN from Scratch.ipynb",
      "provenance": [],
      "collapsed_sections": []
    },
    "kernelspec": {
      "name": "python3",
      "display_name": "Python 3"
    },
    "accelerator": "GPU"
  },
  "cells": [
    {
      "cell_type": "markdown",
      "metadata": {
        "id": "hhFOL-__-PLG",
        "colab_type": "text"
      },
      "source": [
        "# Neural Networks from Scratch (in NumPy)"
      ]
    },
    {
      "cell_type": "code",
      "metadata": {
        "id": "7q3s3g0vr2r7",
        "colab_type": "code",
        "outputId": "9417667f-f82a-48fd-d47c-61d6baa3f549",
        "colab": {
          "base_uri": "https://localhost:8080/",
          "height": 34
        }
      },
      "source": [
        "%pylab inline"
      ],
      "execution_count": 1,
      "outputs": [
        {
          "output_type": "stream",
          "text": [
            "Populating the interactive namespace from numpy and matplotlib\n"
          ],
          "name": "stdout"
        }
      ]
    },
    {
      "cell_type": "code",
      "metadata": {
        "id": "2b5uc6kOsKBE",
        "colab_type": "code",
        "colab": {}
      },
      "source": [
        "import numpy.random as npr"
      ],
      "execution_count": 0,
      "outputs": []
    },
    {
      "cell_type": "markdown",
      "metadata": {
        "id": "TqV5pEZoqr0S",
        "colab_type": "text"
      },
      "source": [
        "## Data\n",
        "\n",
        "Use `keras` only to load the data."
      ]
    },
    {
      "cell_type": "code",
      "metadata": {
        "id": "HvwySGH0v_O_",
        "colab_type": "code",
        "outputId": "ca90b77b-1af3-418e-9c93-7f53cd517db6",
        "colab": {
          "base_uri": "https://localhost:8080/",
          "height": 80
        }
      },
      "source": [
        "from tensorflow.keras.datasets import mnist\n",
        "(x_train, y_train), (x_test, y_test) = mnist.load_data()\n",
        "x_train = x_train.reshape((-1, 28 * 28)) / 255\n",
        "x_test = x_test.reshape((-1, 28 * 28)) / 255\n",
        "del mnist\n",
        "type(x_train)"
      ],
      "execution_count": 3,
      "outputs": [
        {
          "output_type": "display_data",
          "data": {
            "text/html": [
              "<p style=\"color: red;\">\n",
              "The default version of TensorFlow in Colab will soon switch to TensorFlow 2.x.<br>\n",
              "We recommend you <a href=\"https://www.tensorflow.org/guide/migrate\" target=\"_blank\">upgrade</a> now \n",
              "or ensure your notebook will continue to use TensorFlow 1.x via the <code>%tensorflow_version 1.x</code> magic:\n",
              "<a href=\"https://colab.research.google.com/notebooks/tensorflow_version.ipynb\" target=\"_blank\">more info</a>.</p>\n"
            ],
            "text/plain": [
              "<IPython.core.display.HTML object>"
            ]
          },
          "metadata": {
            "tags": []
          }
        },
        {
          "output_type": "execute_result",
          "data": {
            "text/plain": [
              "numpy.ndarray"
            ]
          },
          "metadata": {
            "tags": []
          },
          "execution_count": 3
        }
      ]
    },
    {
      "cell_type": "code",
      "metadata": {
        "id": "pM2jQ5RJvlzF",
        "colab_type": "code",
        "outputId": "d6d66dc1-803a-4a4d-e6c8-cd900fd1e237",
        "colab": {
          "base_uri": "https://localhost:8080/",
          "height": 182
        }
      },
      "source": [
        "figsize(25, 5)\n",
        "for i in range(10):\n",
        "  subplot(1, 10, i+1)\n",
        "  imshow(x_train[i].reshape((28, 28)), cmap='gray')\n",
        "  xlabel(y_train[i])"
      ],
      "execution_count": 4,
      "outputs": [
        {
          "output_type": "display_data",
          "data": {
            "image/png": "iVBORw0KGgoAAAANSUhEUgAABZUAAAClCAYAAAAkjxOgAAAABHNCSVQICAgIfAhkiAAAAAlwSFlz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\nILT/DyoIQrLd0mdSAAAAAElFTkSuQmCC\n",
            "text/plain": [
              "<Figure size 1800x360 with 10 Axes>"
            ]
          },
          "metadata": {
            "tags": []
          }
        }
      ]
    },
    {
      "cell_type": "markdown",
      "metadata": {
        "id": "OjDrgn-4bhzS",
        "colab_type": "text"
      },
      "source": [
        "## Utilities"
      ]
    },
    {
      "cell_type": "code",
      "metadata": {
        "id": "kkv_GmMt4C0H",
        "colab_type": "code",
        "colab": {}
      },
      "source": [
        "def g(z):\n",
        "    \"\"\" sigmoid \"\"\"\n",
        "    return 1 / (1 + np.exp(-z))"
      ],
      "execution_count": 0,
      "outputs": []
    },
    {
      "cell_type": "code",
      "metadata": {
        "id": "iIwm5YVtXk2x",
        "colab_type": "code",
        "colab": {}
      },
      "source": [
        "def g_(z):\n",
        "    \"\"\" derivative sigmoid \"\"\"\n",
        "    return g(z) * (1 - g(z))"
      ],
      "execution_count": 0,
      "outputs": []
    },
    {
      "cell_type": "code",
      "metadata": {
        "id": "1Fwbn01Jym-k",
        "colab_type": "code",
        "colab": {}
      },
      "source": [
        "def T(y, K):\n",
        "  \"\"\" one hot encoding \"\"\"\n",
        "  y = np.array(y, dtype=np.uint8)\n",
        "  one_hot = np.zeros((len(y), K))\n",
        "  one_hot[np.arange(len(y)), y] = 1\n",
        "  return one_hot"
      ],
      "execution_count": 0,
      "outputs": []
    },
    {
      "cell_type": "code",
      "metadata": {
        "id": "Pq5pLQkyXrEa",
        "colab_type": "code",
        "colab": {}
      },
      "source": [
        "def reverse(l):\n",
        "  return l[::-1]"
      ],
      "execution_count": 0,
      "outputs": []
    },
    {
      "cell_type": "markdown",
      "metadata": {
        "id": "63lDSLm6bjyk",
        "colab_type": "text"
      },
      "source": [
        "## Building a model\n",
        "\n",
        "Architecture:\n",
        "1. Input layer: $28 \\times 28 = 784$ nodes.\n",
        "1. Hidden layer: $300$ nodes.\n",
        "1. Output layer: $10$ nodes."
      ]
    },
    {
      "cell_type": "markdown",
      "metadata": {
        "id": "Myy9vZgVtCfF",
        "colab_type": "text"
      },
      "source": [
        "### Initializing weights"
      ]
    },
    {
      "cell_type": "code",
      "metadata": {
        "id": "7u6UeSRIbkq9",
        "colab_type": "code",
        "colab": {}
      },
      "source": [
        "# inspired by:\n",
        "# https://github.com/google/jax/blob/master/examples/mnist_classifier_fromscratch.py\n",
        "def init_random_params(layer_sizes, rng=npr.RandomState(0)):\n",
        "  return [rng.randn(nodes_in + 1, nodes_out) * np.sqrt(2 / (nodes_in + nodes_out))\n",
        "          for nodes_in, nodes_out, in zip(layer_sizes[:-1], layer_sizes[1:])]"
      ],
      "execution_count": 0,
      "outputs": []
    },
    {
      "cell_type": "code",
      "metadata": {
        "id": "lrmOG2BXbl8C",
        "colab_type": "code",
        "outputId": "c280adcd-7ee3-4724-a0f6-915ceb51298a",
        "colab": {
          "base_uri": "https://localhost:8080/",
          "height": 34
        }
      },
      "source": [
        "weights = init_random_params([784, 500, 500, 10])\n",
        "[x.shape for x in weights]"
      ],
      "execution_count": 10,
      "outputs": [
        {
          "output_type": "execute_result",
          "data": {
            "text/plain": [
              "[(785, 300), (301, 10)]"
            ]
          },
          "metadata": {
            "tags": []
          },
          "execution_count": 10
        }
      ]
    },
    {
      "cell_type": "markdown",
      "metadata": {
        "id": "DTvrnQtQbfHv",
        "colab_type": "text"
      },
      "source": [
        "### Feedforward"
      ]
    },
    {
      "cell_type": "code",
      "metadata": {
        "id": "hDb0zYKkdHDq",
        "colab_type": "code",
        "colab": {}
      },
      "source": [
        "def add_bias(x):\n",
        "  \"\"\" x.shape: batch * feature size \"\"\"\n",
        "  bias = np.ones((len(x), 1))\n",
        "  return np.hstack((bias, x))"
      ],
      "execution_count": 0,
      "outputs": []
    },
    {
      "cell_type": "code",
      "metadata": {
        "id": "Og1GzOrFxOQq",
        "colab_type": "code",
        "colab": {}
      },
      "source": [
        "def forward(weights, inputs):\n",
        "  x = inputs\n",
        "  for w in weights: \n",
        "    x = add_bias(x)\n",
        "    x = x @ w\n",
        "    x = g(x)\n",
        "\n",
        "  return x"
      ],
      "execution_count": 0,
      "outputs": []
    },
    {
      "cell_type": "code",
      "metadata": {
        "id": "hd-nFbEZxXnD",
        "colab_type": "code",
        "outputId": "2f5edad4-a6b7-46ba-95b1-99f3ce9fb3db",
        "colab": {
          "base_uri": "https://localhost:8080/",
          "height": 51
        }
      },
      "source": [
        "preds = forward(weights, npr.random((1, 28 * 28)))\n",
        "preds.shape, preds"
      ],
      "execution_count": 13,
      "outputs": [
        {
          "output_type": "execute_result",
          "data": {
            "text/plain": [
              "((1, 10), array([[0.64751739, 0.48695989, 0.43962703, 0.2346779 , 0.69169215,\n",
              "         0.39664271, 0.54363287, 0.40610726, 0.50378895, 0.41132414]]))"
            ]
          },
          "metadata": {
            "tags": []
          },
          "execution_count": 13
        }
      ]
    },
    {
      "cell_type": "code",
      "metadata": {
        "id": "vWRhColuKnXZ",
        "colab_type": "code",
        "outputId": "db895ccd-34ba-405f-82c6-62f1746eade7",
        "colab": {
          "base_uri": "https://localhost:8080/",
          "height": 51
        }
      },
      "source": [
        "%timeit forward(weights, npr.random((1, 28 * 28)))"
      ],
      "execution_count": 14,
      "outputs": [
        {
          "output_type": "stream",
          "text": [
            "The slowest run took 7.82 times longer than the fastest. This could mean that an intermediate result is being cached.\n",
            "10000 loops, best of 3: 142 µs per loop\n"
          ],
          "name": "stdout"
        }
      ]
    },
    {
      "cell_type": "markdown",
      "metadata": {
        "id": "CgkHwG7HW8Rb",
        "colab_type": "text"
      },
      "source": [
        "## Training"
      ]
    },
    {
      "cell_type": "markdown",
      "metadata": {
        "id": "JMjJcgzPtgUL",
        "colab_type": "text"
      },
      "source": [
        "### Backprop"
      ]
    },
    {
      "cell_type": "code",
      "metadata": {
        "id": "aiVzVaSlNK0p",
        "colab_type": "code",
        "colab": {}
      },
      "source": [
        "def backward(x, y, weights):\n",
        "  \"\"\" single example \"\"\"\n",
        "\n",
        "  # Feed forward, save activations\n",
        "  x = inputs\n",
        "  activations = [inputs]\n",
        "  for w in weights:\n",
        "    x = add_bias(x)\n",
        "    bla = x.copy()\n",
        "    x = x @ w\n",
        "    activations.append(x)\n",
        "    x = g(x)\n",
        "\n",
        "  predictions = x\n",
        "\n",
        "  # Get deltas, error terms\n",
        "  final_error = (predictions - y).T\n",
        "  errors = [final_error]\n",
        "  # don't do final layer, we just did\n",
        "  # don't compute error for input!\n",
        "  for i, act in enumerate(activations[1:-1]):\n",
        "    error = weights[-(i+1)][1:, :] @ errors[i] * g_(act).T # ignore the first weight because we don't adjust the bias \n",
        "    errors.append(error)\n",
        "\n",
        "  errors = reverse(errors)\n",
        "\n",
        "  # Save the partial derrivatives\n",
        "  grads = []\n",
        "\n",
        "  for i in range(len(errors)):\n",
        "    grad = (errors[i] @ add_bias(activations[i])) * (1 / len(y))\n",
        "    grads.append(grad)\n",
        "\n",
        "  return grads"
      ],
      "execution_count": 0,
      "outputs": []
    },
    {
      "cell_type": "code",
      "metadata": {
        "id": "Z2JDhoTjcGPW",
        "colab_type": "code",
        "outputId": "974b99a6-75ab-4678-afeb-d639edbee5ff",
        "colab": {
          "base_uri": "https://localhost:8080/",
          "height": 34
        }
      },
      "source": [
        "inputs = npr.random((1, 28 * 28))\n",
        "y = npr.random((1, 10))\n",
        "grads = backward(inputs, y, weights)\n",
        "[a.shape for a in grads]"
      ],
      "execution_count": 16,
      "outputs": [
        {
          "output_type": "execute_result",
          "data": {
            "text/plain": [
              "[(300, 785), (10, 301)]"
            ]
          },
          "metadata": {
            "tags": []
          },
          "execution_count": 16
        }
      ]
    },
    {
      "cell_type": "code",
      "metadata": {
        "id": "sm_z9dY3cfR3",
        "colab_type": "code",
        "outputId": "dae730ee-6f86-4de0-8405-a4883f240da0",
        "colab": {
          "base_uri": "https://localhost:8080/",
          "height": 34
        }
      },
      "source": [
        "%timeit grads = backward(inputs, y, weights)"
      ],
      "execution_count": 17,
      "outputs": [
        {
          "output_type": "stream",
          "text": [
            "1000 loops, best of 3: 1.48 ms per loop\n"
          ],
          "name": "stdout"
        }
      ]
    },
    {
      "cell_type": "code",
      "metadata": {
        "id": "s1o8ScXYayMN",
        "colab_type": "code",
        "colab": {
          "base_uri": "https://localhost:8080/",
          "height": 34
        },
        "outputId": "c04c1e44-4812-4916-a792-63fcf2ed2a85"
      },
      "source": [
        "inputs = npr.random((128, 28 * 28))\n",
        "y = npr.random((128, 10))\n",
        "grads = backward(inputs, y, weights)\n",
        "[a.shape for a in grads]"
      ],
      "execution_count": 18,
      "outputs": [
        {
          "output_type": "execute_result",
          "data": {
            "text/plain": [
              "[(300, 785), (10, 301)]"
            ]
          },
          "metadata": {
            "tags": []
          },
          "execution_count": 18
        }
      ]
    },
    {
      "cell_type": "markdown",
      "metadata": {
        "id": "6PNWf-pizDWb",
        "colab_type": "text"
      },
      "source": [
        "### Measuring performance"
      ]
    },
    {
      "cell_type": "code",
      "metadata": {
        "id": "GtJF4Wliww8S",
        "colab_type": "code",
        "colab": {}
      },
      "source": [
        "def stats(weights):\n",
        "  m = len(y_test)\n",
        "  preds = forward(weights, x_test)\n",
        "  acc = (np.argmax(preds, axis=-1) == y_test).sum() / m * 100\n",
        "  loss = np.sum(- np.log(preds[np.arange(m), y_test])) / m\n",
        "  return {'acc': round(acc, 2), 'loss': round(loss, 2)}"
      ],
      "execution_count": 0,
      "outputs": []
    },
    {
      "cell_type": "code",
      "metadata": {
        "id": "W6WhSUP0xRad",
        "colab_type": "code",
        "outputId": "ccd7a2a8-08b2-4e3b-e090-a5ac85549660",
        "colab": {
          "base_uri": "https://localhost:8080/",
          "height": 34
        }
      },
      "source": [
        "%timeit stats(weights)"
      ],
      "execution_count": 20,
      "outputs": [
        {
          "output_type": "stream",
          "text": [
            "1 loop, best of 3: 245 ms per loop\n"
          ],
          "name": "stdout"
        }
      ]
    },
    {
      "cell_type": "code",
      "metadata": {
        "id": "QjGyYYFHzs-w",
        "colab_type": "code",
        "outputId": "6e750410-a2c9-4db8-b316-18861f6fdb7c",
        "colab": {
          "base_uri": "https://localhost:8080/",
          "height": 34
        }
      },
      "source": [
        "stats(weights)"
      ],
      "execution_count": 21,
      "outputs": [
        {
          "output_type": "execute_result",
          "data": {
            "text/plain": [
              "{'acc': 9.62, 'loss': 0.75}"
            ]
          },
          "metadata": {
            "tags": []
          },
          "execution_count": 21
        }
      ]
    },
    {
      "cell_type": "markdown",
      "metadata": {
        "id": "N_1WGcApzHqD",
        "colab_type": "text"
      },
      "source": [
        "### Training loop"
      ]
    },
    {
      "cell_type": "code",
      "metadata": {
        "id": "kQn-_Ndpx7di",
        "colab_type": "code",
        "colab": {}
      },
      "source": [
        "weights = init_random_params([784, 500, 500, 10])"
      ],
      "execution_count": 0,
      "outputs": []
    },
    {
      "cell_type": "code",
      "metadata": {
        "id": "r6FU681A5l89",
        "colab_type": "code",
        "outputId": "92ecf0eb-0d3e-4890-ee29-3184d3e7065f",
        "colab": {
          "base_uri": "https://localhost:8080/",
          "height": 691
        }
      },
      "source": [
        "lr = 0.001\n",
        "\n",
        "for epoch in range(2):\n",
        "  print('Starting epoch', epoch + 1)\n",
        "  for i in range(len(x_train)):\n",
        "    inputs = x_train[i][np.newaxis, :]\n",
        "    labels = T([y_train[i]], K=10)\n",
        "    grads = backward(inputs, labels, weights)\n",
        "    for j in range(len(weights)):\n",
        "      weights[j] -= lr * grads[j].T\n",
        "    if i % 5000 == 0: print(stats(weights))"
      ],
      "execution_count": 23,
      "outputs": [
        {
          "output_type": "stream",
          "text": [
            "Starting epoch  1\n",
            "{'acc': 8.92, 'loss': 0.83}\n",
            "{'acc': 39.08, 'loss': 2.05}\n",
            "{'acc': 63.7, 'loss': 1.5}\n",
            "{'acc': 77.68, 'loss': 1.07}\n",
            "{'acc': 82.66, 'loss': 0.9}\n",
            "{'acc': 84.08, 'loss': 0.71}\n",
            "{'acc': 86.18, 'loss': 0.63}\n",
            "{'acc': 87.09, 'loss': 0.63}\n",
            "{'acc': 87.58, 'loss': 0.54}\n",
            "{'acc': 88.13, 'loss': 0.55}\n",
            "{'acc': 88.4, 'loss': 0.5}\n",
            "{'acc': 88.55, 'loss': 0.5}\n",
            "Starting epoch  2\n",
            "{'acc': 87.98, 'loss': 0.54}\n",
            "{'acc': 89.02, 'loss': 0.51}\n",
            "{'acc': 88.87, 'loss': 0.53}\n",
            "{'acc': 89.44, 'loss': 0.49}\n",
            "{'acc': 89.17, 'loss': 0.49}\n",
            "{'acc': 89.58, 'loss': 0.44}\n",
            "{'acc': 89.75, 'loss': 0.44}\n",
            "{'acc': 90.19, 'loss': 0.46}\n",
            "{'acc': 89.85, 'loss': 0.43}\n",
            "{'acc': 90.11, 'loss': 0.44}\n",
            "{'acc': 89.56, 'loss': 0.43}\n",
            "{'acc': 90.29, 'loss': 0.42}\n",
          ],
          "name": "stdout"
        }
      ]
    },
    {
      "cell_type": "code",
      "metadata": {
        "id": "s5TbcaR6y9HL",
        "colab_type": "code",
        "colab": {}
      },
      "source": [
        ""
      ],
      "execution_count": 0,
      "outputs": []
    }
  ]
}
